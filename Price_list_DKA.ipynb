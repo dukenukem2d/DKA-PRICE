{
 "cells": [
  {
   "cell_type": "code",
   "execution_count": 1,
   "metadata": {},
   "outputs": [],
   "source": [
    "from datetime import date"
   ]
  },
  {
   "cell_type": "code",
   "execution_count": 2,
   "metadata": {},
   "outputs": [
    {
     "data": {
      "text/plain": [
       "datetime.date(2022, 10, 25)"
      ]
     },
     "execution_count": 2,
     "metadata": {},
     "output_type": "execute_result"
    }
   ],
   "source": [
    "now = date.today()\n",
    "now"
   ]
  },
  {
   "cell_type": "code",
   "execution_count": 3,
   "metadata": {},
   "outputs": [],
   "source": [
    "customer_id = '0140'"
   ]
  },
  {
   "cell_type": "code",
   "execution_count": 4,
   "metadata": {},
   "outputs": [],
   "source": [
    "query = f'''http://192.168.1.104/ReportServer/Pages/ReportViewer.aspx\\\n",
    "?%2fDynamicsAX%2fCustPriceList.PrecisionDesign&CustPriceList_CustAccount={customer_id}\\\n",
    "&CustPriceList_PerDate={now}&CustPriceList_CurrencyCode=usd\\\n",
    "&CustPriceList_DataArea=dka&rs:Format=Excel'''"
   ]
  },
  {
   "cell_type": "code",
   "execution_count": 5,
   "metadata": {},
   "outputs": [
    {
     "data": {
      "text/plain": [
       "'http://192.168.1.104/ReportServer/Pages/ReportViewer.aspx?%2fDynamicsAX%2fCustPriceList.PrecisionDesign&CustPriceList_CustAccount=0140&CustPriceList_PerDate=2022-10-24&CustPriceList_CurrencyCode=usd&CustPriceList_DataArea=dka&rs:Format=Excel'"
      ]
     },
     "execution_count": 5,
     "metadata": {},
     "output_type": "execute_result"
    }
   ],
   "source": [
    "query"
   ]
  },
  {
   "cell_type": "code",
   "execution_count": 32,
   "metadata": {},
   "outputs": [
    {
     "data": {
      "text/plain": [
       "True"
      ]
     },
     "execution_count": 32,
     "metadata": {},
     "output_type": "execute_result"
    }
   ],
   "source": [
    "import os\n",
    "from dotenv import load_dotenv, find_dotenv\n",
    "\n",
    "load_dotenv(find_dotenv())"
   ]
  },
  {
   "cell_type": "code",
   "execution_count": 40,
   "metadata": {},
   "outputs": [],
   "source": [
    "query = os.getenv('QUERY')"
   ]
  },
  {
   "cell_type": "code",
   "execution_count": 41,
   "metadata": {},
   "outputs": [
    {
     "data": {
      "text/plain": [
       "'http://192.168.1.104/ReportServer/Pages/ReportViewer.aspx?%2fDynamicsAX%2fCustPriceList.PrecisionDesign&CustPriceList_CustAccount={customer_id}&CustPriceList_PerDate={now}&CustPriceList_CurrencyCode=usd&CustPriceList_DataArea=dka&rs:Command=Render&rs:Format=Excel'"
      ]
     },
     "execution_count": 41,
     "metadata": {},
     "output_type": "execute_result"
    }
   ],
   "source": [
    "query"
   ]
  },
  {
   "cell_type": "code",
   "execution_count": 7,
   "metadata": {},
   "outputs": [],
   "source": [
    "import requests\n",
    "from requests_ntlm import HttpNtlmAuth"
   ]
  },
  {
   "cell_type": "code",
   "execution_count": 8,
   "metadata": {},
   "outputs": [],
   "source": [
    "username = os.getenv('USERNAME_REPORT_SERVER')\n",
    "password = os.getenv('PASSWORD_REPORT_SERVER')"
   ]
  },
  {
   "cell_type": "code",
   "execution_count": 9,
   "metadata": {},
   "outputs": [
    {
     "data": {
      "text/plain": [
       "('report_server', 'YandexNavsegda1212')"
      ]
     },
     "execution_count": 9,
     "metadata": {},
     "output_type": "execute_result"
    }
   ],
   "source": [
    "username, password"
   ]
  },
  {
   "cell_type": "code",
   "execution_count": 10,
   "metadata": {},
   "outputs": [],
   "source": [
    "from io import BytesIO"
   ]
  },
  {
   "cell_type": "code",
   "execution_count": 11,
   "metadata": {},
   "outputs": [],
   "source": [
    "request = requests.get(query,auth=HttpNtlmAuth(username, password))"
   ]
  },
  {
   "cell_type": "code",
   "execution_count": 12,
   "metadata": {},
   "outputs": [
    {
     "data": {
      "text/plain": [
       "200"
      ]
     },
     "execution_count": 12,
     "metadata": {},
     "output_type": "execute_result"
    }
   ],
   "source": [
    "request.status_code"
   ]
  },
  {
   "cell_type": "code",
   "execution_count": 13,
   "metadata": {},
   "outputs": [],
   "source": [
    "fp = BytesIO(request.content)"
   ]
  },
  {
   "cell_type": "code",
   "execution_count": null,
   "metadata": {},
   "outputs": [],
   "source": [
    "if request.status_code == 200:\n",
    "    with open('price_list.xlsx', 'wb') as out:\n",
    "        for bits in request.iter_content():\n",
    "            out.write(bits)"
   ]
  },
  {
   "cell_type": "code",
   "execution_count": 4,
   "metadata": {},
   "outputs": [],
   "source": [
    "import pandas as pd\n",
    "#from StyleFrame import StyleFrame, Styler, utils"
   ]
  },
  {
   "cell_type": "code",
   "execution_count": 24,
   "metadata": {},
   "outputs": [
    {
     "name": "stdout",
     "output_type": "stream",
     "text": [
      "WARNING *** file size (81792) not 512 + multiple of sector size (512)\n"
     ]
    }
   ],
   "source": [
    "df = pd.read_excel(request.content, skiprows=10)\n",
    "df = df.assign(Order='',Order_Sum='')"
   ]
  },
  {
   "cell_type": "code",
   "execution_count": 25,
   "metadata": {},
   "outputs": [
    {
     "data": {
      "text/html": [
       "<div>\n",
       "<style scoped>\n",
       "    .dataframe tbody tr th:only-of-type {\n",
       "        vertical-align: middle;\n",
       "    }\n",
       "\n",
       "    .dataframe tbody tr th {\n",
       "        vertical-align: top;\n",
       "    }\n",
       "\n",
       "    .dataframe thead th {\n",
       "        text-align: right;\n",
       "    }\n",
       "</style>\n",
       "<table border=\"1\" class=\"dataframe\">\n",
       "  <thead>\n",
       "    <tr style=\"text-align: right;\">\n",
       "      <th></th>\n",
       "      <th>Brand</th>\n",
       "      <th>Category 1</th>\n",
       "      <th>Category 2</th>\n",
       "      <th>Unnamed: 3</th>\n",
       "      <th>Category 3</th>\n",
       "      <th>Category 4</th>\n",
       "      <th>Unnamed: 6</th>\n",
       "      <th>Unnamed: 7</th>\n",
       "      <th>Model</th>\n",
       "      <th>Name</th>\n",
       "      <th>...</th>\n",
       "      <th>Price</th>\n",
       "      <th>Unnamed: 19</th>\n",
       "      <th>Reserved</th>\n",
       "      <th>Discounts / Скидки</th>\n",
       "      <th>Unnamed: 22</th>\n",
       "      <th>Gifts / Подарки</th>\n",
       "      <th>Unnamed: 24</th>\n",
       "      <th>Reserved total</th>\n",
       "      <th>Order</th>\n",
       "      <th>Order_Sum</th>\n",
       "    </tr>\n",
       "  </thead>\n",
       "  <tbody>\n",
       "    <tr>\n",
       "      <th>0</th>\n",
       "      <td>BEKO</td>\n",
       "      <td>Home Appliances</td>\n",
       "      <td>Vacuum Cleaner</td>\n",
       "      <td>NaN</td>\n",
       "      <td>Vacuum Cleaner Bag</td>\n",
       "      <td>NaN</td>\n",
       "      <td>NaN</td>\n",
       "      <td>NaN</td>\n",
       "      <td>VCC6424 WI</td>\n",
       "      <td>Vacuum Cleaner Beko VCC6424 WI</td>\n",
       "      <td>...</td>\n",
       "      <td>57.5</td>\n",
       "      <td>NaN</td>\n",
       "      <td>NaN</td>\n",
       "      <td>NaN</td>\n",
       "      <td>NaN</td>\n",
       "      <td>NaN</td>\n",
       "      <td>NaN</td>\n",
       "      <td>0</td>\n",
       "      <td></td>\n",
       "      <td></td>\n",
       "    </tr>\n",
       "    <tr>\n",
       "      <th>1</th>\n",
       "      <td>BEKO</td>\n",
       "      <td>Home Appliances</td>\n",
       "      <td>Vacuum Cleaner</td>\n",
       "      <td>NaN</td>\n",
       "      <td>Vacuum Cleaner Bag</td>\n",
       "      <td>NaN</td>\n",
       "      <td>NaN</td>\n",
       "      <td>NaN</td>\n",
       "      <td>VCC7324 WI</td>\n",
       "      <td>Vacuum Cleaner Beko VCC7324 WI</td>\n",
       "      <td>...</td>\n",
       "      <td>66.0</td>\n",
       "      <td>NaN</td>\n",
       "      <td>NaN</td>\n",
       "      <td>NaN</td>\n",
       "      <td>NaN</td>\n",
       "      <td>NaN</td>\n",
       "      <td>NaN</td>\n",
       "      <td>0</td>\n",
       "      <td></td>\n",
       "      <td></td>\n",
       "    </tr>\n",
       "    <tr>\n",
       "      <th>2</th>\n",
       "      <td>Chuwi</td>\n",
       "      <td>Computers</td>\n",
       "      <td>NaN</td>\n",
       "      <td>NaN</td>\n",
       "      <td>NaN</td>\n",
       "      <td>NaN</td>\n",
       "      <td>NaN</td>\n",
       "      <td>NaN</td>\n",
       "      <td>CoreBox</td>\n",
       "      <td>mini-PC CoreBox i5-8259U/16GB/512GB</td>\n",
       "      <td>...</td>\n",
       "      <td>355.3</td>\n",
       "      <td>NaN</td>\n",
       "      <td>NaN</td>\n",
       "      <td>NaN</td>\n",
       "      <td>NaN</td>\n",
       "      <td>NaN</td>\n",
       "      <td>NaN</td>\n",
       "      <td>0</td>\n",
       "      <td></td>\n",
       "      <td></td>\n",
       "    </tr>\n",
       "    <tr>\n",
       "      <th>3</th>\n",
       "      <td>Chuwi</td>\n",
       "      <td>Computers</td>\n",
       "      <td>NaN</td>\n",
       "      <td>NaN</td>\n",
       "      <td>NaN</td>\n",
       "      <td>NaN</td>\n",
       "      <td>NaN</td>\n",
       "      <td>NaN</td>\n",
       "      <td>HeroBox</td>\n",
       "      <td>mini-PC HeroBox J4125/8GB/256GB</td>\n",
       "      <td>...</td>\n",
       "      <td>180.4</td>\n",
       "      <td>NaN</td>\n",
       "      <td>NaN</td>\n",
       "      <td>NaN</td>\n",
       "      <td>NaN</td>\n",
       "      <td>NaN</td>\n",
       "      <td>NaN</td>\n",
       "      <td>0</td>\n",
       "      <td></td>\n",
       "      <td></td>\n",
       "    </tr>\n",
       "    <tr>\n",
       "      <th>4</th>\n",
       "      <td>Chuwi</td>\n",
       "      <td>Computers</td>\n",
       "      <td>Laptops</td>\n",
       "      <td>NaN</td>\n",
       "      <td>Notebooks</td>\n",
       "      <td>NaN</td>\n",
       "      <td>NaN</td>\n",
       "      <td>NaN</td>\n",
       "      <td>GemiBook Pro</td>\n",
       "      <td>Laptop GemiBook Pro 14\"/N5100/8GB/256GB</td>\n",
       "      <td>...</td>\n",
       "      <td>290.0</td>\n",
       "      <td>NaN</td>\n",
       "      <td>NaN</td>\n",
       "      <td>NaN</td>\n",
       "      <td>NaN</td>\n",
       "      <td>NaN</td>\n",
       "      <td>NaN</td>\n",
       "      <td>0</td>\n",
       "      <td></td>\n",
       "      <td></td>\n",
       "    </tr>\n",
       "  </tbody>\n",
       "</table>\n",
       "<p>5 rows × 28 columns</p>\n",
       "</div>"
      ],
      "text/plain": [
       "   Brand       Category 1      Category 2  Unnamed: 3          Category 3  \\\n",
       "0   BEKO  Home Appliances  Vacuum Cleaner         NaN  Vacuum Cleaner Bag   \n",
       "1   BEKO  Home Appliances  Vacuum Cleaner         NaN  Vacuum Cleaner Bag   \n",
       "2  Chuwi        Computers             NaN         NaN                 NaN   \n",
       "3  Chuwi        Computers             NaN         NaN                 NaN   \n",
       "4  Chuwi        Computers         Laptops         NaN           Notebooks   \n",
       "\n",
       "  Category 4  Unnamed: 6  Unnamed: 7         Model  \\\n",
       "0        NaN         NaN         NaN    VCC6424 WI   \n",
       "1        NaN         NaN         NaN    VCC7324 WI   \n",
       "2        NaN         NaN         NaN       CoreBox   \n",
       "3        NaN         NaN         NaN       HeroBox   \n",
       "4        NaN         NaN         NaN  GemiBook Pro   \n",
       "\n",
       "                                      Name  ...  Price Unnamed: 19 Reserved  \\\n",
       "0           Vacuum Cleaner Beko VCC6424 WI  ...   57.5         NaN      NaN   \n",
       "1           Vacuum Cleaner Beko VCC7324 WI  ...   66.0         NaN      NaN   \n",
       "2      mini-PC CoreBox i5-8259U/16GB/512GB  ...  355.3         NaN      NaN   \n",
       "3          mini-PC HeroBox J4125/8GB/256GB  ...  180.4         NaN      NaN   \n",
       "4  Laptop GemiBook Pro 14\"/N5100/8GB/256GB  ...  290.0         NaN      NaN   \n",
       "\n",
       "    Discounts / Скидки  Unnamed: 22  Gifts / Подарки Unnamed: 24  \\\n",
       "0                  NaN          NaN              NaN         NaN   \n",
       "1                  NaN          NaN              NaN         NaN   \n",
       "2                  NaN          NaN              NaN         NaN   \n",
       "3                  NaN          NaN              NaN         NaN   \n",
       "4                  NaN          NaN              NaN         NaN   \n",
       "\n",
       "   Reserved total  Order  Order_Sum  \n",
       "0               0                    \n",
       "1               0                    \n",
       "2               0                    \n",
       "3               0                    \n",
       "4               0                    \n",
       "\n",
       "[5 rows x 28 columns]"
      ]
     },
     "execution_count": 25,
     "metadata": {},
     "output_type": "execute_result"
    }
   ],
   "source": [
    "df.head()"
   ]
  },
  {
   "cell_type": "code",
   "execution_count": 5,
   "metadata": {},
   "outputs": [
    {
     "name": "stdout",
     "output_type": "stream",
     "text": [
      "WARNING *** file size (89984) not 512 + multiple of sector size (512)\n"
     ]
    }
   ],
   "source": [
    "df = pd.read_excel('price_list.xlsx', skiprows=10, usecols=\"A:C,E,F,I,J,M:S,U\", engine='xlrd')\n",
    "df = df.assign(Order='',Order_Sum='')"
   ]
  },
  {
   "cell_type": "code",
   "execution_count": null,
   "metadata": {},
   "outputs": [],
   "source": [
    "# [opt for opt in dir(request) if not opt.startswith(\"__\")]"
   ]
  },
  {
   "cell_type": "code",
   "execution_count": 6,
   "metadata": {},
   "outputs": [],
   "source": [
    "writer = pd.ExcelWriter(f'Price_list-{now}.xlsx', engine='xlsxwriter')\n",
    "df.to_excel(writer, sheet_name='Price_list', index=False, startrow=5)"
   ]
  },
  {
   "cell_type": "code",
   "execution_count": 7,
   "metadata": {},
   "outputs": [],
   "source": [
    "workbook  = writer.book\n",
    "worksheet = writer.sheets['Price_list']"
   ]
  },
  {
   "cell_type": "code",
   "execution_count": 8,
   "metadata": {},
   "outputs": [],
   "source": [
    "header_format = workbook.add_format({\n",
    "    'bold': True,\n",
    "    # 'text_wrap': True,\n",
    "    'valign': 'top',\n",
    "    'align': 'center',\n",
    "    'fg_color': '#41E3A1',\n",
    "    'border': 1})"
   ]
  },
  {
   "cell_type": "code",
   "execution_count": 9,
   "metadata": {},
   "outputs": [],
   "source": [
    "total_format = workbook.add_format({\n",
    "    'bold': True,\n",
    "    'border': 1})"
   ]
  },
  {
   "cell_type": "code",
   "execution_count": 10,
   "metadata": {},
   "outputs": [],
   "source": [
    "small_header_format = workbook.add_format({\n",
    "    'bold': True,\n",
    "    'border': 1,\n",
    "    'align': 'center',\n",
    "    'fg_color': '#41E3A1'})"
   ]
  },
  {
   "cell_type": "code",
   "execution_count": 11,
   "metadata": {},
   "outputs": [],
   "source": [
    "money_format = workbook.add_format({'num_format': '$# ##0.##',\n",
    "'border': 1\n",
    "})"
   ]
  },
  {
   "cell_type": "code",
   "execution_count": 12,
   "metadata": {},
   "outputs": [],
   "source": [
    "money_format_ = workbook.add_format({'num_format': '$# ##0.##'\n",
    "})"
   ]
  },
  {
   "cell_type": "code",
   "execution_count": 13,
   "metadata": {},
   "outputs": [],
   "source": [
    "cell_format = workbook.add_format({'border': 1,\n",
    "'num_format': '# ##0.##'})"
   ]
  },
  {
   "cell_type": "code",
   "execution_count": 14,
   "metadata": {},
   "outputs": [],
   "source": [
    "for col_num, value in enumerate(df.columns.values):\n",
    "    worksheet.write(5, col_num, value, header_format)"
   ]
  },
  {
   "cell_type": "code",
   "execution_count": 15,
   "metadata": {},
   "outputs": [],
   "source": [
    "x = (10,13,13,13,16,16,30,13,13,14,12,13,12,14,14,12,19)\n",
    "for i,x in enumerate(x):\n",
    "    worksheet.set_column(i,i,x)"
   ]
  },
  {
   "cell_type": "code",
   "execution_count": 16,
   "metadata": {},
   "outputs": [
    {
     "data": {
      "text/plain": [
       "0"
      ]
     },
     "execution_count": 16,
     "metadata": {},
     "output_type": "execute_result"
    }
   ],
   "source": [
    "worksheet.set_column(13, 13, 14, money_format_)"
   ]
  },
  {
   "cell_type": "code",
   "execution_count": 17,
   "metadata": {},
   "outputs": [
    {
     "data": {
      "text/plain": [
       "0"
      ]
     },
     "execution_count": 17,
     "metadata": {},
     "output_type": "execute_result"
    }
   ],
   "source": [
    "worksheet.write_string('A4', 'Customer:')\n",
    "worksheet.write_string('B4', f'{customer_id}')\n",
    "worksheet.write_string('A5', 'Currency:')\n",
    "worksheet.write_string('B5', 'USD')"
   ]
  },
  {
   "cell_type": "code",
   "execution_count": 18,
   "metadata": {},
   "outputs": [
    {
     "data": {
      "text/plain": [
       "0"
      ]
     },
     "execution_count": 18,
     "metadata": {},
     "output_type": "execute_result"
    }
   ],
   "source": [
    "# Tables with reserve totals\n",
    "worksheet.write_string('N2', 'Total weight', total_format)\n",
    "worksheet.write_string('N3', 'Total CBM', total_format)\n",
    "worksheet.write_string('N4', 'Total Cartoons', total_format)\n",
    "worksheet.write_string('N5', 'Total Sum', total_format)"
   ]
  },
  {
   "cell_type": "code",
   "execution_count": 19,
   "metadata": {},
   "outputs": [
    {
     "data": {
      "text/plain": [
       "0"
      ]
     },
     "execution_count": 19,
     "metadata": {},
     "output_type": "execute_result"
    }
   ],
   "source": [
    "# Small table's header\n",
    "worksheet.write_string('N1', '', small_header_format)\n",
    "worksheet.write_string('O1', 'Reserved', small_header_format)\n",
    "worksheet.write_string('P1', 'Order', small_header_format)\n",
    "worksheet.write_string('Q1', 'Total Res + Ord', small_header_format)"
   ]
  },
  {
   "cell_type": "code",
   "execution_count": 20,
   "metadata": {},
   "outputs": [
    {
     "data": {
      "text/plain": [
       "0"
      ]
     },
     "execution_count": 20,
     "metadata": {},
     "output_type": "execute_result"
    }
   ],
   "source": [
    "# add formulas for reserved goods\n",
    "row_numbers = df.shape[0] + 1\n",
    "worksheet.write_dynamic_array_formula('O2', f'=SUM($I$7:$I${row_numbers}*$O$7:$O${row_numbers})',cell_format) # Total weight\n",
    "worksheet.write_dynamic_array_formula('O3', f'=SUM($J$7:$J${row_numbers}*$O$7:$O${row_numbers})',cell_format) # Total CBM\n",
    "worksheet.write_dynamic_array_formula('O4', f'=SUM($K$7:$K${row_numbers}*$O$7:$O${row_numbers})') # Total Cartoons\n",
    "worksheet.write_dynamic_array_formula('O5', f'=SUM($N$7:$N${row_numbers}*$O$7:$O${row_numbers})',money_format) # Total SUM"
   ]
  },
  {
   "cell_type": "code",
   "execution_count": 21,
   "metadata": {},
   "outputs": [
    {
     "data": {
      "text/plain": [
       "0"
      ]
     },
     "execution_count": 21,
     "metadata": {},
     "output_type": "execute_result"
    }
   ],
   "source": [
    "# add formulas for ordered goods\n",
    "worksheet.write_dynamic_array_formula('P2', f'=SUM($I$7:$I${row_numbers}*$P$7:$P${row_numbers})',cell_format) # Total weight\n",
    "worksheet.write_dynamic_array_formula('P3', f'=SUM($J$7:$J${row_numbers}*$P$7:$P${row_numbers})',cell_format) # Total CBM\n",
    "worksheet.write_dynamic_array_formula('P4', f'=SUM($K$7:$K${row_numbers}*$P$7:$P${row_numbers})') # Total Cartoons\n",
    "worksheet.write_dynamic_array_formula('P5', f'=SUM($N$7:$N${row_numbers}*$P$7:$P${row_numbers})',money_format) # Total SUM"
   ]
  },
  {
   "cell_type": "code",
   "execution_count": 22,
   "metadata": {},
   "outputs": [
    {
     "data": {
      "text/plain": [
       "0"
      ]
     },
     "execution_count": 22,
     "metadata": {},
     "output_type": "execute_result"
    }
   ],
   "source": [
    "worksheet.write_dynamic_array_formula(f'Q7:Q{row_numbers}',    f'=(N7:N{row_numbers}*P7:P{row_numbers})',money_format_)"
   ]
  },
  {
   "cell_type": "code",
   "execution_count": 23,
   "metadata": {},
   "outputs": [
    {
     "data": {
      "text/plain": [
       "0"
      ]
     },
     "execution_count": 23,
     "metadata": {},
     "output_type": "execute_result"
    }
   ],
   "source": [
    "# add formulas for ordered + reserved goods\n",
    "worksheet.write_formula('Q2', 'O2+P2',cell_format) # Total weight\n",
    "worksheet.write_formula('Q3', 'O3+P3',cell_format) # Total CBM\n",
    "worksheet.write_formula('Q4', 'O4+P4') # Total Cartoons\n",
    "worksheet.write_formula('Q5', 'O5+P5',money_format) # Total SUM"
   ]
  },
  {
   "cell_type": "code",
   "execution_count": 24,
   "metadata": {},
   "outputs": [],
   "source": [
    "worksheet.freeze_panes(6, 0)"
   ]
  },
  {
   "cell_type": "code",
   "execution_count": 25,
   "metadata": {},
   "outputs": [],
   "source": [
    "worksheet.autofilter('A6:Q6')"
   ]
  },
  {
   "cell_type": "code",
   "execution_count": 26,
   "metadata": {},
   "outputs": [],
   "source": [
    "merge_format = workbook.add_format({\n",
    "    # 'bold':     True,\n",
    "    'align':    'center',\n",
    "    'valign':   'vcenter',\n",
    "    'font_name': 'Calibri',\n",
    "    'font_size': 25 \n",
    "})"
   ]
  },
  {
   "cell_type": "code",
   "execution_count": 27,
   "metadata": {},
   "outputs": [
    {
     "data": {
      "text/plain": [
       "0"
      ]
     },
     "execution_count": 27,
     "metadata": {},
     "output_type": "execute_result"
    }
   ],
   "source": [
    "worksheet.merge_range('A1:L3', f'PRICE LIST {now}',merge_format)"
   ]
  },
  {
   "cell_type": "code",
   "execution_count": 28,
   "metadata": {},
   "outputs": [],
   "source": [
    "worksheet.set_zoom(67)"
   ]
  },
  {
   "cell_type": "code",
   "execution_count": 29,
   "metadata": {},
   "outputs": [],
   "source": [
    "writer.save()"
   ]
  },
  {
   "cell_type": "code",
   "execution_count": null,
   "metadata": {},
   "outputs": [],
   "source": [
    "file_"
   ]
  }
 ],
 "metadata": {
  "kernelspec": {
   "display_name": "PRICE",
   "language": "python",
   "name": "python3"
  },
  "language_info": {
   "codemirror_mode": {
    "name": "ipython",
    "version": 3
   },
   "file_extension": ".py",
   "mimetype": "text/x-python",
   "name": "python",
   "nbconvert_exporter": "python",
   "pygments_lexer": "ipython3",
   "version": "3.7.13"
  },
  "orig_nbformat": 4,
  "vscode": {
   "interpreter": {
    "hash": "82120b806fcc4d0f25e45c8d451f75b0e3733b587f713d5b402846bc3eee0af3"
   }
  }
 },
 "nbformat": 4,
 "nbformat_minor": 2
}
