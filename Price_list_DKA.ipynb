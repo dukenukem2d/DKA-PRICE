{
 "cells": [
  {
   "cell_type": "code",
   "execution_count": 7,
   "metadata": {},
   "outputs": [],
   "source": [
    "from datetime import date"
   ]
  },
  {
   "cell_type": "code",
   "execution_count": 8,
   "metadata": {},
   "outputs": [
    {
     "data": {
      "text/plain": [
       "datetime.date(2022, 10, 18)"
      ]
     },
     "execution_count": 8,
     "metadata": {},
     "output_type": "execute_result"
    }
   ],
   "source": [
    "now = date.today()\n",
    "now"
   ]
  },
  {
   "cell_type": "code",
   "execution_count": 9,
   "metadata": {},
   "outputs": [],
   "source": [
    "customer_id = '0140'"
   ]
  },
  {
   "cell_type": "code",
   "execution_count": 10,
   "metadata": {},
   "outputs": [],
   "source": [
    "query = f'''http://192.168.1.104/ReportServer/Pages/ReportViewer.aspx\\\n",
    "?%2fDynamicsAX%2fCustPriceList.PrecisionDesign&CustPriceList_CustAccount={customer_id}\\\n",
    "&CustPriceList_PerDate={now}&CustPriceList_CurrencyCode=usd\\\n",
    "&CustPriceList_DataArea=dka&rs:Format=Excel'''"
   ]
  },
  {
   "cell_type": "code",
   "execution_count": 11,
   "metadata": {},
   "outputs": [
    {
     "data": {
      "text/plain": [
       "'http://192.168.1.104/ReportServer/Pages/ReportViewer.aspx?%2fDynamicsAX%2fCustPriceList.PrecisionDesign&CustPriceList_CustAccount=0140&CustPriceList_PerDate=2022-10-18&CustPriceList_CurrencyCode=usd&CustPriceList_DataArea=dka&rs:Format=Excel'"
      ]
     },
     "execution_count": 11,
     "metadata": {},
     "output_type": "execute_result"
    }
   ],
   "source": [
    "query"
   ]
  },
  {
   "cell_type": "code",
   "execution_count": 13,
   "metadata": {},
   "outputs": [
    {
     "data": {
      "text/plain": [
       "True"
      ]
     },
     "execution_count": 13,
     "metadata": {},
     "output_type": "execute_result"
    }
   ],
   "source": [
    "import os\n",
    "from dotenv import load_dotenv, find_dotenv\n",
    "\n",
    "load_dotenv(find_dotenv())"
   ]
  },
  {
   "cell_type": "code",
   "execution_count": 5,
   "metadata": {},
   "outputs": [],
   "source": [
    "import requests\n",
    "from requests_ntlm import HttpNtlmAuth"
   ]
  },
  {
   "cell_type": "code",
   "execution_count": 2,
   "metadata": {},
   "outputs": [],
   "source": [
    "username = os.getenv('USERNAME_REPORT_SERVER')\n",
    "password = os.getenv('PASSWORD_REPORT_SERVER')"
   ]
  },
  {
   "cell_type": "code",
   "execution_count": 14,
   "metadata": {},
   "outputs": [
    {
     "data": {
      "text/plain": [
       "('report_user', 'YandexNavsegda1212')"
      ]
     },
     "execution_count": 14,
     "metadata": {},
     "output_type": "execute_result"
    }
   ],
   "source": [
    "username, password"
   ]
  },
  {
   "cell_type": "code",
   "execution_count": 19,
   "metadata": {},
   "outputs": [],
   "source": [
    "request = requests.get(query,auth=HttpNtlmAuth(username, password))"
   ]
  },
  {
   "cell_type": "code",
   "execution_count": 20,
   "metadata": {},
   "outputs": [
    {
     "data": {
      "text/plain": [
       "500"
      ]
     },
     "execution_count": 20,
     "metadata": {},
     "output_type": "execute_result"
    }
   ],
   "source": [
    "request.status_code"
   ]
  },
  {
   "cell_type": "code",
   "execution_count": null,
   "metadata": {},
   "outputs": [],
   "source": [
    "if request.status_code == 200:\n",
    "    with open('price_list.xlsx', 'wb') as out:\n",
    "        for bits in request.iter_content():\n",
    "            out.write(bits)"
   ]
  },
  {
   "cell_type": "code",
   "execution_count": null,
   "metadata": {},
   "outputs": [],
   "source": [
    "import pandas as pd\n",
    "#from StyleFrame import StyleFrame, Styler, utils"
   ]
  },
  {
   "cell_type": "code",
   "execution_count": null,
   "metadata": {},
   "outputs": [],
   "source": [
    "df = pd.read_excel('price_list.xlsx', skiprows=10, usecols=\"A:C,E,F,I,J,M:S,U\", engine='xlrd')\n",
    "df = df.assign(Order='',Order_Sum='')"
   ]
  },
  {
   "cell_type": "code",
   "execution_count": null,
   "metadata": {},
   "outputs": [],
   "source": [
    "# [opt for opt in dir(request) if not opt.startswith(\"__\")]"
   ]
  },
  {
   "cell_type": "code",
   "execution_count": null,
   "metadata": {},
   "outputs": [],
   "source": [
    "writer = pd.ExcelWriter(f'Price_list-{now}.xlsx', engine='xlsxwriter')\n",
    "df.to_excel(writer, sheet_name='Price_list', index=False, startrow=5)"
   ]
  },
  {
   "cell_type": "code",
   "execution_count": null,
   "metadata": {},
   "outputs": [],
   "source": [
    "workbook  = writer.book\n",
    "worksheet = writer.sheets['Price_list']"
   ]
  },
  {
   "cell_type": "code",
   "execution_count": null,
   "metadata": {},
   "outputs": [],
   "source": [
    "header_format = workbook.add_format({\n",
    "    'bold': True,\n",
    "    # 'text_wrap': True,\n",
    "    'valign': 'top',\n",
    "    'align': 'center',\n",
    "    'fg_color': '#41E3A1',\n",
    "    'border': 1})"
   ]
  },
  {
   "cell_type": "code",
   "execution_count": null,
   "metadata": {},
   "outputs": [],
   "source": [
    "total_format = workbook.add_format({\n",
    "    'bold': True,\n",
    "    'border': 1})"
   ]
  },
  {
   "cell_type": "code",
   "execution_count": null,
   "metadata": {},
   "outputs": [],
   "source": [
    "small_header_format = workbook.add_format({\n",
    "    'bold': True,\n",
    "    'border': 1,\n",
    "    'align': 'center',\n",
    "    'fg_color': '#41E3A1'})"
   ]
  },
  {
   "cell_type": "code",
   "execution_count": null,
   "metadata": {},
   "outputs": [],
   "source": [
    "money_format = workbook.add_format({'num_format': '$# ##0.##',\n",
    "'border': 1\n",
    "})"
   ]
  },
  {
   "cell_type": "code",
   "execution_count": null,
   "metadata": {},
   "outputs": [],
   "source": [
    "money_format_ = workbook.add_format({'num_format': '$# ##0.##'\n",
    "})"
   ]
  },
  {
   "cell_type": "code",
   "execution_count": null,
   "metadata": {},
   "outputs": [],
   "source": [
    "cell_format = workbook.add_format({'border': 1,\n",
    "'num_format': '# ##0.##'})"
   ]
  },
  {
   "cell_type": "code",
   "execution_count": null,
   "metadata": {},
   "outputs": [],
   "source": [
    "for col_num, value in enumerate(df.columns.values):\n",
    "    worksheet.write(5, col_num, value, header_format)"
   ]
  },
  {
   "cell_type": "code",
   "execution_count": null,
   "metadata": {},
   "outputs": [],
   "source": [
    "x = (10,13,13,13,16,16,30,13,13,14,12,13,12,14,14,12,19)\n",
    "for i,x in enumerate(x):\n",
    "    worksheet.set_column(i,i,x)"
   ]
  },
  {
   "cell_type": "code",
   "execution_count": null,
   "metadata": {},
   "outputs": [],
   "source": [
    "worksheet.set_column(13, 13, 14, money_format_)"
   ]
  },
  {
   "cell_type": "code",
   "execution_count": null,
   "metadata": {},
   "outputs": [],
   "source": [
    "worksheet.write_string('A4', 'Customer:')\n",
    "worksheet.write_string('B4', f'{customer_id}')\n",
    "worksheet.write_string('A5', 'Currency:')\n",
    "worksheet.write_string('B5', 'USD')"
   ]
  },
  {
   "cell_type": "code",
   "execution_count": null,
   "metadata": {},
   "outputs": [],
   "source": [
    "# Tables with reserve totals\n",
    "worksheet.write_string('N2', 'Total weight', total_format)\n",
    "worksheet.write_string('N3', 'Total CBM', total_format)\n",
    "worksheet.write_string('N4', 'Total Cartoons', total_format)\n",
    "worksheet.write_string('N5', 'Total Sum', total_format)"
   ]
  },
  {
   "cell_type": "code",
   "execution_count": null,
   "metadata": {},
   "outputs": [],
   "source": [
    "# Small table's header\n",
    "worksheet.write_string('N1', '', small_header_format)\n",
    "worksheet.write_string('O1', 'Reserved', small_header_format)\n",
    "worksheet.write_string('P1', 'Order', small_header_format)\n",
    "worksheet.write_string('Q1', 'Total Res + Ord', small_header_format)"
   ]
  },
  {
   "cell_type": "code",
   "execution_count": null,
   "metadata": {},
   "outputs": [],
   "source": [
    "# add formulas for reserved goods\n",
    "row_numbers = df.shape[0] + 1\n",
    "worksheet.write_dynamic_array_formula('O2', f'=SUM($I$7:$I${row_numbers}*$O$7:$O${row_numbers})',cell_format) # Total weight\n",
    "worksheet.write_dynamic_array_formula('O3', f'=SUM($J$7:$J${row_numbers}*$O$7:$O${row_numbers})',cell_format) # Total CBM\n",
    "worksheet.write_dynamic_array_formula('O4', f'=SUM($K$7:$K${row_numbers}*$O$7:$O${row_numbers})') # Total Cartoons\n",
    "worksheet.write_dynamic_array_formula('O5', f'=SUM($N$7:$N${row_numbers}*$O$7:$O${row_numbers})',money_format) # Total SUM"
   ]
  },
  {
   "cell_type": "code",
   "execution_count": null,
   "metadata": {},
   "outputs": [],
   "source": [
    "# add formulas for ordered goods\n",
    "worksheet.write_dynamic_array_formula('P2', f'=SUM($I$7:$I${row_numbers}*$P$7:$P${row_numbers})',cell_format) # Total weight\n",
    "worksheet.write_dynamic_array_formula('P3', f'=SUM($J$7:$J${row_numbers}*$P$7:$P${row_numbers})',cell_format) # Total CBM\n",
    "worksheet.write_dynamic_array_formula('P4', f'=SUM($K$7:$K${row_numbers}*$P$7:$P${row_numbers})') # Total Cartoons\n",
    "worksheet.write_dynamic_array_formula('P5', f'=SUM($N$7:$N${row_numbers}*$P$7:$P${row_numbers})',money_format) # Total SUM"
   ]
  },
  {
   "cell_type": "code",
   "execution_count": null,
   "metadata": {},
   "outputs": [],
   "source": [
    "worksheet.write_dynamic_array_formula(f'Q7:Q{row_numbers}',    f'=(N7:N{row_numbers}*P7:P{row_numbers})',money_format_)"
   ]
  },
  {
   "cell_type": "code",
   "execution_count": null,
   "metadata": {},
   "outputs": [],
   "source": [
    "# add formulas for ordered + reserved goods\n",
    "worksheet.write_formula('Q2', 'O2+P2',cell_format) # Total weight\n",
    "worksheet.write_formula('Q3', 'O3+P3',cell_format) # Total CBM\n",
    "worksheet.write_formula('Q4', 'O4+P4') # Total Cartoons\n",
    "worksheet.write_formula('Q5', 'O5+P5',money_format) # Total SUM"
   ]
  },
  {
   "cell_type": "code",
   "execution_count": null,
   "metadata": {},
   "outputs": [],
   "source": [
    "worksheet.freeze_panes(6, 0)"
   ]
  },
  {
   "cell_type": "code",
   "execution_count": null,
   "metadata": {},
   "outputs": [],
   "source": [
    "worksheet.autofilter('A6:Q6')"
   ]
  },
  {
   "cell_type": "code",
   "execution_count": null,
   "metadata": {},
   "outputs": [],
   "source": [
    "merge_format = workbook.add_format({\n",
    "    # 'bold':     True,\n",
    "    'align':    'center',\n",
    "    'valign':   'vcenter',\n",
    "    'font_name': 'Calibri',\n",
    "    'font_size': 25 \n",
    "})"
   ]
  },
  {
   "cell_type": "code",
   "execution_count": null,
   "metadata": {},
   "outputs": [],
   "source": [
    "worksheet.merge_range('A1:L3', f'PRICE LIST {now}',merge_format)"
   ]
  },
  {
   "cell_type": "code",
   "execution_count": null,
   "metadata": {},
   "outputs": [],
   "source": [
    "worksheet.set_zoom(67)"
   ]
  },
  {
   "cell_type": "code",
   "execution_count": null,
   "metadata": {},
   "outputs": [],
   "source": [
    "writer.save()"
   ]
  }
 ],
 "metadata": {
  "kernelspec": {
   "display_name": "Python 3.7.11 ('DS')",
   "language": "python",
   "name": "python3"
  },
  "language_info": {
   "codemirror_mode": {
    "name": "ipython",
    "version": 3
   },
   "file_extension": ".py",
   "mimetype": "text/x-python",
   "name": "python",
   "nbconvert_exporter": "python",
   "pygments_lexer": "ipython3",
   "version": "3.7.11"
  },
  "orig_nbformat": 4,
  "vscode": {
   "interpreter": {
    "hash": "69d428017b858701f7523a1918ce282f2da92e8a46d34fa7f25f71abd9563e51"
   }
  }
 },
 "nbformat": 4,
 "nbformat_minor": 2
}
